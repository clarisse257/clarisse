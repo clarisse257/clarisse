{
 "cells": [
  {
   "cell_type": "markdown",
   "metadata": {},
   "source": [
    "# Changement du répertoire courant"
   ]
  },
  {
   "cell_type": "code",
   "execution_count": 4,
   "metadata": {},
   "outputs": [],
   "source": [
    "import os\n",
    "from sklearn.inspection import plot_partial_dependence\n",
    "from sklearn.inspection import plot_partial_dependence\n",
    "\n",
    "# Changer le répertoire courant : préciser le chemin vers le dossier contenant la base de données \n",
    "\n",
    "os.chdir(r\"C:\\Users\\USER\\Desktop\\M2\\SEMESTRE_2\\ML_Interpretable\")"
   ]
  },
  {
   "cell_type": "markdown",
   "metadata": {},
   "source": [
    "# Importation de la base de données"
   ]
  },
  {
   "cell_type": "code",
   "execution_count": 5,
   "metadata": {},
   "outputs": [],
   "source": [
    "import pandas as pd\n",
    "\n",
    "dataBase = pd.read_csv('GermanDataset.data', sep=\" \", header=None,names=[\"accountStatus\",\"creditDuration\",\"creditHistory\",\"Purpose\",\"creditAmount\",\"Savings\",\"employmentDuration\",\"installmentRate\",\"gender&PersonalStatus\",\"Guarantor\",\"residenceTime\",\"Property\",\"Age\",\"otherInstallmentPlan\",\"Housing\",\"numberOfCredit\",\"Job\",\"NumberLiablePeople\",\"Telephone\",\"foreignWorker\",\"creditRisk\"])"
   ]
  },
  {
   "cell_type": "markdown",
   "metadata": {},
   "source": [
    "### Aperçu de la base de données"
   ]
  },
  {
   "cell_type": "code",
   "execution_count": 6,
   "metadata": {},
   "outputs": [
    {
     "data": {
      "text/html": [
       "<div>\n",
       "<style scoped>\n",
       "    .dataframe tbody tr th:only-of-type {\n",
       "        vertical-align: middle;\n",
       "    }\n",
       "\n",
       "    .dataframe tbody tr th {\n",
       "        vertical-align: top;\n",
       "    }\n",
       "\n",
       "    .dataframe thead th {\n",
       "        text-align: right;\n",
       "    }\n",
       "</style>\n",
       "<table border=\"1\" class=\"dataframe\">\n",
       "  <thead>\n",
       "    <tr style=\"text-align: right;\">\n",
       "      <th></th>\n",
       "      <th>accountStatus</th>\n",
       "      <th>creditDuration</th>\n",
       "      <th>creditHistory</th>\n",
       "      <th>Purpose</th>\n",
       "      <th>creditAmount</th>\n",
       "      <th>Savings</th>\n",
       "      <th>employmentDuration</th>\n",
       "      <th>installmentRate</th>\n",
       "      <th>gender&amp;PersonalStatus</th>\n",
       "      <th>Guarantor</th>\n",
       "      <th>...</th>\n",
       "      <th>Property</th>\n",
       "      <th>Age</th>\n",
       "      <th>otherInstallmentPlan</th>\n",
       "      <th>Housing</th>\n",
       "      <th>numberOfCredit</th>\n",
       "      <th>Job</th>\n",
       "      <th>NumberLiablePeople</th>\n",
       "      <th>Telephone</th>\n",
       "      <th>foreignWorker</th>\n",
       "      <th>creditRisk</th>\n",
       "    </tr>\n",
       "  </thead>\n",
       "  <tbody>\n",
       "    <tr>\n",
       "      <td>0</td>\n",
       "      <td>A11</td>\n",
       "      <td>6</td>\n",
       "      <td>A34</td>\n",
       "      <td>A43</td>\n",
       "      <td>1169</td>\n",
       "      <td>A65</td>\n",
       "      <td>A75</td>\n",
       "      <td>4</td>\n",
       "      <td>A93</td>\n",
       "      <td>A101</td>\n",
       "      <td>...</td>\n",
       "      <td>A121</td>\n",
       "      <td>67</td>\n",
       "      <td>A143</td>\n",
       "      <td>A152</td>\n",
       "      <td>2</td>\n",
       "      <td>A173</td>\n",
       "      <td>1</td>\n",
       "      <td>A192</td>\n",
       "      <td>A201</td>\n",
       "      <td>1</td>\n",
       "    </tr>\n",
       "    <tr>\n",
       "      <td>1</td>\n",
       "      <td>A12</td>\n",
       "      <td>48</td>\n",
       "      <td>A32</td>\n",
       "      <td>A43</td>\n",
       "      <td>5951</td>\n",
       "      <td>A61</td>\n",
       "      <td>A73</td>\n",
       "      <td>2</td>\n",
       "      <td>A92</td>\n",
       "      <td>A101</td>\n",
       "      <td>...</td>\n",
       "      <td>A121</td>\n",
       "      <td>22</td>\n",
       "      <td>A143</td>\n",
       "      <td>A152</td>\n",
       "      <td>1</td>\n",
       "      <td>A173</td>\n",
       "      <td>1</td>\n",
       "      <td>A191</td>\n",
       "      <td>A201</td>\n",
       "      <td>2</td>\n",
       "    </tr>\n",
       "    <tr>\n",
       "      <td>2</td>\n",
       "      <td>A14</td>\n",
       "      <td>12</td>\n",
       "      <td>A34</td>\n",
       "      <td>A46</td>\n",
       "      <td>2096</td>\n",
       "      <td>A61</td>\n",
       "      <td>A74</td>\n",
       "      <td>2</td>\n",
       "      <td>A93</td>\n",
       "      <td>A101</td>\n",
       "      <td>...</td>\n",
       "      <td>A121</td>\n",
       "      <td>49</td>\n",
       "      <td>A143</td>\n",
       "      <td>A152</td>\n",
       "      <td>1</td>\n",
       "      <td>A172</td>\n",
       "      <td>2</td>\n",
       "      <td>A191</td>\n",
       "      <td>A201</td>\n",
       "      <td>1</td>\n",
       "    </tr>\n",
       "    <tr>\n",
       "      <td>3</td>\n",
       "      <td>A11</td>\n",
       "      <td>42</td>\n",
       "      <td>A32</td>\n",
       "      <td>A42</td>\n",
       "      <td>7882</td>\n",
       "      <td>A61</td>\n",
       "      <td>A74</td>\n",
       "      <td>2</td>\n",
       "      <td>A93</td>\n",
       "      <td>A103</td>\n",
       "      <td>...</td>\n",
       "      <td>A122</td>\n",
       "      <td>45</td>\n",
       "      <td>A143</td>\n",
       "      <td>A153</td>\n",
       "      <td>1</td>\n",
       "      <td>A173</td>\n",
       "      <td>2</td>\n",
       "      <td>A191</td>\n",
       "      <td>A201</td>\n",
       "      <td>1</td>\n",
       "    </tr>\n",
       "    <tr>\n",
       "      <td>4</td>\n",
       "      <td>A11</td>\n",
       "      <td>24</td>\n",
       "      <td>A33</td>\n",
       "      <td>A40</td>\n",
       "      <td>4870</td>\n",
       "      <td>A61</td>\n",
       "      <td>A73</td>\n",
       "      <td>3</td>\n",
       "      <td>A93</td>\n",
       "      <td>A101</td>\n",
       "      <td>...</td>\n",
       "      <td>A124</td>\n",
       "      <td>53</td>\n",
       "      <td>A143</td>\n",
       "      <td>A153</td>\n",
       "      <td>2</td>\n",
       "      <td>A173</td>\n",
       "      <td>2</td>\n",
       "      <td>A191</td>\n",
       "      <td>A201</td>\n",
       "      <td>2</td>\n",
       "    </tr>\n",
       "  </tbody>\n",
       "</table>\n",
       "<p>5 rows × 21 columns</p>\n",
       "</div>"
      ],
      "text/plain": [
       "  accountStatus  creditDuration creditHistory Purpose  creditAmount Savings  \\\n",
       "0           A11               6           A34     A43          1169     A65   \n",
       "1           A12              48           A32     A43          5951     A61   \n",
       "2           A14              12           A34     A46          2096     A61   \n",
       "3           A11              42           A32     A42          7882     A61   \n",
       "4           A11              24           A33     A40          4870     A61   \n",
       "\n",
       "  employmentDuration  installmentRate gender&PersonalStatus Guarantor  ...  \\\n",
       "0                A75                4                   A93      A101  ...   \n",
       "1                A73                2                   A92      A101  ...   \n",
       "2                A74                2                   A93      A101  ...   \n",
       "3                A74                2                   A93      A103  ...   \n",
       "4                A73                3                   A93      A101  ...   \n",
       "\n",
       "   Property Age  otherInstallmentPlan Housing numberOfCredit   Job  \\\n",
       "0      A121  67                  A143    A152              2  A173   \n",
       "1      A121  22                  A143    A152              1  A173   \n",
       "2      A121  49                  A143    A152              1  A172   \n",
       "3      A122  45                  A143    A153              1  A173   \n",
       "4      A124  53                  A143    A153              2  A173   \n",
       "\n",
       "  NumberLiablePeople  Telephone foreignWorker creditRisk  \n",
       "0                  1       A192          A201          1  \n",
       "1                  1       A191          A201          2  \n",
       "2                  2       A191          A201          1  \n",
       "3                  2       A191          A201          1  \n",
       "4                  2       A191          A201          2  \n",
       "\n",
       "[5 rows x 21 columns]"
      ]
     },
     "execution_count": 6,
     "metadata": {},
     "output_type": "execute_result"
    }
   ],
   "source": [
    "dataBase.head()"
   ]
  },
  {
   "cell_type": "markdown",
   "metadata": {},
   "source": [
    "### Quelques informations "
   ]
  },
  {
   "cell_type": "code",
   "execution_count": 7,
   "metadata": {},
   "outputs": [
    {
     "name": "stdout",
     "output_type": "stream",
     "text": [
      "<class 'pandas.core.frame.DataFrame'>\n",
      "RangeIndex: 1000 entries, 0 to 999\n",
      "Data columns (total 21 columns):\n",
      "accountStatus            1000 non-null object\n",
      "creditDuration           1000 non-null int64\n",
      "creditHistory            1000 non-null object\n",
      "Purpose                  1000 non-null object\n",
      "creditAmount             1000 non-null int64\n",
      "Savings                  1000 non-null object\n",
      "employmentDuration       1000 non-null object\n",
      "installmentRate          1000 non-null int64\n",
      "gender&PersonalStatus    1000 non-null object\n",
      "Guarantor                1000 non-null object\n",
      "residenceTime            1000 non-null int64\n",
      "Property                 1000 non-null object\n",
      "Age                      1000 non-null int64\n",
      "otherInstallmentPlan     1000 non-null object\n",
      "Housing                  1000 non-null object\n",
      "numberOfCredit           1000 non-null int64\n",
      "Job                      1000 non-null object\n",
      "NumberLiablePeople       1000 non-null int64\n",
      "Telephone                1000 non-null object\n",
      "foreignWorker            1000 non-null object\n",
      "creditRisk               1000 non-null int64\n",
      "dtypes: int64(8), object(13)\n",
      "memory usage: 164.2+ KB\n"
     ]
    }
   ],
   "source": [
    "dataBase.info()"
   ]
  },
  {
   "cell_type": "code",
   "execution_count": 8,
   "metadata": {},
   "outputs": [],
   "source": [
    "import numpy as np"
   ]
  },
  {
   "cell_type": "code",
   "execution_count": 9,
   "metadata": {},
   "outputs": [],
   "source": [
    "dataBase.loc[dataBase[\"accountStatus\"]==\"A11\",\"accountStatus\"] = 1\n",
    "dataBase.loc[dataBase[\"accountStatus\"]==\"A12\",\"accountStatus\"] = 1\n",
    "dataBase.loc[dataBase[\"accountStatus\"]==\"A13\",\"accountStatus\"] = 1\n",
    "dataBase.loc[dataBase[\"accountStatus\"]==\"A14\",\"accountStatus\"] = 0"
   ]
  },
  {
   "cell_type": "markdown",
   "metadata": {},
   "source": [
    "### Valeurs manquantes ?"
   ]
  },
  {
   "cell_type": "code",
   "execution_count": 10,
   "metadata": {},
   "outputs": [
    {
     "data": {
      "text/plain": [
       "0"
      ]
     },
     "execution_count": 10,
     "metadata": {},
     "output_type": "execute_result"
    }
   ],
   "source": [
    "missing = dataBase.isna()\n",
    "\n",
    "missing.sum().sum() # Calcul du nombre de valeurs manquantes dans la base de données "
   ]
  },
  {
   "cell_type": "markdown",
   "metadata": {},
   "source": [
    "# Passage des variables qualitatives en dummies + recodage variable de réponse\n",
    "\n",
    "creditRisk : Encodage => 1 : GOOD , 0 : BAD "
   ]
  },
  {
   "cell_type": "code",
   "execution_count": 11,
   "metadata": {},
   "outputs": [],
   "source": [
    "dataBase[\"creditRisk\"] = dataBase[\"creditRisk\"].replace(2,0) # Passage de la variable creditRisk en codage binaire\n",
    "\n",
    "copyDataBase = dataBase.copy()\n",
    "\n",
    "for colName in dataBase.columns: # Itération sur les noms de colonnes\n",
    "    if dataBase[colName].dtypes == \"object\":\n",
    "        # Passage variables polytomiques en variable dichotomiques \n",
    "        dataBase = pd.get_dummies(dataBase, columns=[colName])"
   ]
  },
  {
   "cell_type": "markdown",
   "metadata": {},
   "source": [
    "On retire les dummies suivantes : \"accountStatus_0\",\"foreignWorker_A202\",\"Telephone_A192\", car elles ne font que répéter de l'information. "
   ]
  },
  {
   "cell_type": "code",
   "execution_count": 12,
   "metadata": {},
   "outputs": [],
   "source": [
    "dataBase = dataBase.drop([\"foreignWorker_A202\",\"Telephone_A192\"],axis=1) # inplace=True"
   ]
  },
  {
   "cell_type": "code",
   "execution_count": 13,
   "metadata": {},
   "outputs": [
    {
     "data": {
      "text/plain": [
       "(1000, 57)"
      ]
     },
     "execution_count": 13,
     "metadata": {},
     "output_type": "execute_result"
    }
   ],
   "source": [
    "dataBase.shape # Dimensions de la base de données "
   ]
  },
  {
   "cell_type": "markdown",
   "metadata": {},
   "source": [
    "### Recodage de la variable gender&PersonalStatus\n",
    "\n",
    "gender&PersonalStatus = 0 => Male\n",
    "\n",
    "gender&PersonalStatus = 1 => Female"
   ]
  },
  {
   "cell_type": "code",
   "execution_count": 14,
   "metadata": {},
   "outputs": [],
   "source": [
    "dataBaseGender = dataBase.copy()\n",
    "\n",
    "dataFrameGender = pd.DataFrame(copyDataBase[\"gender&PersonalStatus\"]) # Récupère colonne de la base initiale\n",
    "\n",
    "dataBaseGender = pd.concat([dataBaseGender,dataFrameGender],axis=1)\n",
    "\n",
    "# Retire les différentes variables dummy concernant la variable gender&PersonalStatus \n",
    "\n",
    "dataBaseGender.drop([\"gender&PersonalStatus_A91\",\"gender&PersonalStatus_A92\",\"gender&PersonalStatus_A93\",\"gender&PersonalStatus_A94\"],axis=1,inplace=True)\n",
    "\n",
    "''' Recodage de la variable gender&PersonalStatus en variable genre avec pour modalités:\n",
    "        - 0 : Male\n",
    "        - 1 : Female \n",
    "'''\n",
    "\n",
    "male = [\"A91\",\"A93\",\"A94\"]\n",
    "female = [\"A92\",\"A95\"]\n",
    "\n",
    "for modalites in male:\n",
    "    dataBaseGender[\"gender&PersonalStatus\"] = dataBaseGender[\"gender&PersonalStatus\"].replace(modalites,\"0\")\n",
    "\n",
    "for modalites in female:\n",
    "    dataBaseGender[\"gender&PersonalStatus\"] = dataBaseGender[\"gender&PersonalStatus\"].replace(modalites,\"1\")\n",
    "\n",
    "dataBaseGender.rename(columns={\"gender&PersonalStatus\":\"gender\",\"Telephone_A191\":\"Telephone\"},inplace=True)"
   ]
  },
  {
   "cell_type": "code",
   "execution_count": 15,
   "metadata": {},
   "outputs": [],
   "source": [
    "x = dataBaseGender.drop([\"creditRisk\"],axis=1)\n",
    "y = dataBaseGender[\"creditRisk\"]"
   ]
  },
  {
   "cell_type": "markdown",
   "metadata": {},
   "source": [
    "# Arbre de décision"
   ]
  },
  {
   "cell_type": "code",
   "execution_count": 16,
   "metadata": {},
   "outputs": [],
   "source": [
    "from sklearn.tree import DecisionTreeClassifier\n",
    "from sklearn.metrics import confusion_matrix,precision_score,recall_score,classification_report,roc_curve,roc_auc_score"
   ]
  },
  {
   "cell_type": "code",
   "execution_count": 17,
   "metadata": {},
   "outputs": [],
   "source": [
    "model_fit =  DecisionTreeClassifier(ccp_alpha=0.0, class_weight=None, criterion='entropy',\n",
    "                       max_depth=8, max_features='auto', max_leaf_nodes=None,\n",
    "                       min_impurity_decrease=0.0, min_impurity_split=None,\n",
    "                       min_samples_leaf=9, min_samples_split=9,\n",
    "                       min_weight_fraction_leaf=0.0, presort='deprecated',\n",
    "                       random_state=42, splitter='best').fit(x,y)"
   ]
  },
  {
   "cell_type": "markdown",
   "metadata": {},
   "source": [
    "### Prédictions (0,1) récupérées du modèle."
   ]
  },
  {
   "cell_type": "code",
   "execution_count": 18,
   "metadata": {},
   "outputs": [],
   "source": [
    "predictions = model_fit.predict(x) \n",
    "predictionTree = predictions.copy()"
   ]
  },
  {
   "cell_type": "code",
   "execution_count": 19,
   "metadata": {},
   "outputs": [],
   "source": [
    "proba_Tree = []\n",
    "\n",
    "for probs in model_fit.predict_proba(x):\n",
    "    proba_Tree.append(probs[1])\n",
    "    \n",
    "proba_Tree = pd.DataFrame([proba_Tree]).transpose()\n",
    "proba_Tree.columns= [\"S\"]"
   ]
  },
  {
   "cell_type": "code",
   "execution_count": 20,
   "metadata": {},
   "outputs": [
    {
     "name": "stdout",
     "output_type": "stream",
     "text": [
      "Taux d'exactitude: 76.2 %\n"
     ]
    }
   ],
   "source": [
    "confusion_matrix(y,predictionTree)\n",
    "\n",
    "sumDiagonal=0\n",
    "for j in range(0,2):\n",
    "    sumDiagonal += confusion_matrix(y,predictionTree)[j][j]\n",
    "accuracy = round( (sumDiagonal / proba_Tree.shape[0])*100,2)\n",
    "print(\"Taux d'exactitude:\",accuracy,\"%\")"
   ]
  },
  {
   "cell_type": "code",
   "execution_count": 21,
   "metadata": {},
   "outputs": [
    {
     "name": "stdout",
     "output_type": "stream",
     "text": [
      "AUC : 0.8232\n"
     ]
    }
   ],
   "source": [
    "AUCTree = roc_auc_score(y,proba_Tree)\n",
    "print(\"AUC :\",round(AUCTree,4))"
   ]
  },
  {
   "cell_type": "markdown",
   "metadata": {},
   "source": [
    "## Feature Importance"
   ]
  },
  {
   "cell_type": "code",
   "execution_count": 22,
   "metadata": {},
   "outputs": [],
   "source": [
    "import matplotlib.pyplot as plt"
   ]
  },
  {
   "cell_type": "code",
   "execution_count": 23,
   "metadata": {
    "collapsed": true
   },
   "outputs": [
    {
     "data": {
      "image/png": "[encoded data removed]",
      "text/plain": [
       "<Figure size 432x288 with 1 Axes>"
      ]
     },
     "metadata": {
      "needs_background": "light"
     },
     "output_type": "display_data"
    },
    {
     "name": "stdout",
     "output_type": "stream",
     "text": [
      "\n",
      "Variable: accountStatus   Feature: 0, Score: 0.33634 \n",
      "\n",
      "Variable: creditDuration   Feature: 1, Score: 0.16716 \n",
      "\n",
      "Variable: creditAmount   Feature: 2, Score: 0.11028 \n",
      "\n",
      "Variable: installmentRate   Feature: 3, Score: 0.01066 \n",
      "\n",
      "Variable: residenceTime   Feature: 4, Score: 0.00979 \n",
      "\n",
      "Variable: Age   Feature: 5, Score: 0.05497 \n",
      "\n",
      "Variable: numberOfCredit   Feature: 6, Score: 0.00000 \n",
      "\n",
      "Variable: NumberLiablePeople   Feature: 7, Score: 0.00311 \n",
      "\n",
      "Variable: creditHistory_A30   Feature: 8, Score: 0.00000 \n",
      "\n",
      "Variable: creditHistory_A31   Feature: 9, Score: 0.00000 \n",
      "\n",
      "Variable: creditHistory_A32   Feature: 10, Score: 0.00000 \n",
      "\n",
      "Variable: creditHistory_A33   Feature: 11, Score: 0.00000 \n",
      "\n",
      "Variable: creditHistory_A34   Feature: 12, Score: 0.01323 \n",
      "\n",
      "Variable: Purpose_A40   Feature: 13, Score: 0.00834 \n",
      "\n",
      "Variable: Purpose_A41   Feature: 14, Score: 0.02240 \n",
      "\n",
      "Variable: Purpose_A410   Feature: 15, Score: 0.00000 \n",
      "\n",
      "Variable: Purpose_A42   Feature: 16, Score: 0.00000 \n",
      "\n",
      "Variable: Purpose_A43   Feature: 17, Score: 0.00868 \n",
      "\n",
      "Variable: Purpose_A44   Feature: 18, Score: 0.00000 \n",
      "\n",
      "Variable: Purpose_A45   Feature: 19, Score: 0.00000 \n",
      "\n",
      "Variable: Purpose_A46   Feature: 20, Score: 0.01404 \n",
      "\n",
      "Variable: Purpose_A48   Feature: 21, Score: 0.00000 \n",
      "\n",
      "Variable: Purpose_A49   Feature: 22, Score: 0.03015 \n",
      "\n",
      "Variable: Savings_A61   Feature: 23, Score: 0.00000 \n",
      "\n",
      "Variable: Savings_A62   Feature: 24, Score: 0.00000 \n",
      "\n",
      "Variable: Savings_A63   Feature: 25, Score: 0.00000 \n",
      "\n",
      "Variable: Savings_A64   Feature: 26, Score: 0.00000 \n",
      "\n",
      "Variable: Savings_A65   Feature: 27, Score: 0.00000 \n",
      "\n",
      "Variable: employmentDuration_A71   Feature: 28, Score: 0.02333 \n",
      "\n",
      "Variable: employmentDuration_A72   Feature: 29, Score: 0.00645 \n",
      "\n",
      "Variable: employmentDuration_A73   Feature: 30, Score: 0.02472 \n",
      "\n",
      "Variable: employmentDuration_A74   Feature: 31, Score: 0.00000 \n",
      "\n",
      "Variable: employmentDuration_A75   Feature: 32, Score: 0.01675 \n",
      "\n",
      "Variable: Guarantor_A101   Feature: 33, Score: 0.00000 \n",
      "\n",
      "Variable: Guarantor_A102   Feature: 34, Score: 0.00000 \n",
      "\n",
      "Variable: Guarantor_A103   Feature: 35, Score: 0.00000 \n",
      "\n",
      "Variable: Property_A121   Feature: 36, Score: 0.00000 \n",
      "\n",
      "Variable: Property_A122   Feature: 37, Score: 0.00961 \n",
      "\n",
      "Variable: Property_A123   Feature: 38, Score: 0.01590 \n",
      "\n",
      "Variable: Property_A124   Feature: 39, Score: 0.01467 \n",
      "\n",
      "Variable: otherInstallmentPlan_A141   Feature: 40, Score: 0.00000 \n",
      "\n",
      "Variable: otherInstallmentPlan_A142   Feature: 41, Score: 0.00000 \n",
      "\n",
      "Variable: otherInstallmentPlan_A143   Feature: 42, Score: 0.05700 \n",
      "\n",
      "Variable: Housing_A151   Feature: 43, Score: 0.00000 \n",
      "\n",
      "Variable: Housing_A152   Feature: 44, Score: 0.02763 \n",
      "\n",
      "Variable: Housing_A153   Feature: 45, Score: 0.00000 \n",
      "\n",
      "Variable: Job_A171   Feature: 46, Score: 0.00000 \n",
      "\n",
      "Variable: Job_A172   Feature: 47, Score: 0.00341 \n",
      "\n",
      "Variable: Job_A173   Feature: 48, Score: 0.01138 \n",
      "\n",
      "Variable: Job_A174   Feature: 49, Score: 0.00000 \n",
      "\n",
      "Variable: Telephone   Feature: 50, Score: 0.00000 \n",
      "\n",
      "Variable: foreignWorker_A201   Feature: 51, Score: 0.00000 \n",
      "\n",
      "Variable: gender   Feature: 52, Score: 0.00000 \n"
     ]
    }
   ],
   "source": [
    "importance = model_fit.feature_importances_\n",
    "\n",
    "# plot feature importance\n",
    "plt.bar([x for x in range(len(importance))], importance)\n",
    "plt.show()\n",
    "\n",
    "for i,v in enumerate(importance):\n",
    "    print(\"\\nVariable:\", x.columns[i],\" \",'Feature: %0d, Score: %.5f ' % (i,v))"
   ]
  },
  {
   "cell_type": "markdown",
   "metadata": {},
   "source": [
    "# INTERPRETATION DU MODELE "
   ]
  },
  {
   "cell_type": "markdown",
   "metadata": {},
   "source": [
    "Pour l'interpretation du modèle, je vais utilise les méthodes suivantes: \n",
    "\n",
    "➢ Partial Dependence Plot (PDP)\n",
    "\n",
    "➢ Individual Conditional Expectation (ICE)\n",
    "\n",
    "➢ Accumulated Local Effects (ALE)\n"
   ]
  },
  {
   "cell_type": "markdown",
   "metadata": {},
   "source": [
    "**Partial Dependence Plot (PDP)**"
   ]
  },
  {
   "cell_type": "markdown",
   "metadata": {},
   "source": [
    "Le **PDP** a pour but de representer l'effet marginale d'une variable sur la prévision du modèle.\n",
    "Il montre la relation entre la variable explicative et la variable expliquée qu'elle est soit linéaire, monotone ou complex\n",
    "\n",
    "Pour construire le PDP, je vais générer des valeurs comprises entre le minimun et le maximun pour les variables quantitatives."
   ]
  },
  {
   "cell_type": "code",
   "execution_count": 24,
   "metadata": {},
   "outputs": [],
   "source": [
    "import statistics\n",
    "from statistics import mean\n",
    "%matplotlib inline\n",
    "import matplotlib.pyplot as plt"
   ]
  },
  {
   "cell_type": "code",
   "execution_count": 25,
   "metadata": {},
   "outputs": [],
   "source": [
    "def pdp(feat,va):\n",
    "    bd=pd.DataFrame(columns=['prob','vari'])\n",
    "    i=0\n",
    "    while i<len(va):\n",
    "        x1=x.copy()\n",
    "        x1.loc[:,feat]=va[i]\n",
    "        Y_pred1 = (model_fit.predict_proba(x1))\n",
    "        Ym=mean(Y_pred1[:,1])\n",
    "        bd.loc[i]=[Ym,va[i]]\n",
    "        i=i+1\n",
    "    plt.plot(bd.vari, bd.prob)\n",
    "    plt.xlabel(feat,fontsize=18)\n",
    "    plt.ylabel('Probabilité',fontsize=18)\n",
    "    plt.ylim(0,1)"
   ]
  },
  {
   "cell_type": "markdown",
   "metadata": {},
   "source": [
    "- La variable Age"
   ]
  },
  {
   "cell_type": "code",
   "execution_count": 26,
   "metadata": {},
   "outputs": [
    {
     "data": {
      "image/png": "[encoded data removed]",
      "text/plain": [
       "<Figure size 432x288 with 1 Axes>"
      ]
     },
     "metadata": {
      "needs_background": "light"
     },
     "output_type": "display_data"
    }
   ],
   "source": [
    "mia=min(dataBaseGender.Age)#minimun\n",
    "maa=max(dataBaseGender.Age)#maximun\n",
    "#Nx=np.random.randint(mia,maa,1000)#1000 c'est la taille de l'echantillon\n",
    "Nx=range(mia,maa)\n",
    "pdp('Age',Nx)#Nx represente la plage "
   ]
  },
  {
   "cell_type": "markdown",
   "metadata": {},
   "source": [
    "- La variable account Status"
   ]
  },
  {
   "cell_type": "code",
   "execution_count": 27,
   "metadata": {},
   "outputs": [
    {
     "data": {
      "image/png": "[encoded data removed]",
      "text/plain": [
       "<Figure size 432x288 with 1 Axes>"
      ]
     },
     "metadata": {
      "needs_background": "light"
     },
     "output_type": "display_data"
    }
   ],
   "source": [
    "l=np.array([1,0])\n",
    "def pdpq(feat,va):\n",
    "    #feat: il prend en argument la variable sur laquelle on construit lE pdp\n",
    "    #va: prends comme argument la grille de valeurs pour construire le pdp\n",
    "    bd=pd.DataFrame(columns=['prob','vari'],dtype=int)\n",
    "    i=0\n",
    "    while i<len(va):\n",
    "        x1=x.copy()\n",
    "        x1.loc[:,feat]=va[i]\n",
    "        Y_pred1 = (model_fit.predict_proba(x1))\n",
    "        Ym=mean(Y_pred1[:,1])\n",
    "        bd.loc[i]=[Ym,va[i]]\n",
    "        i=i+1\n",
    "    plt.bar(bd.vari, bd.prob)\n",
    "    plt.xlabel(feat,fontsize=18)\n",
    "    axes = plt.gca() \n",
    "    axes.xaxis.set_ticks(range(2))\n",
    "    plt.ylabel('Probabilité',fontsize=18)\n",
    "    plt.ylim(0,1)\n",
    "pdpq('accountStatus',l)"
   ]
  },
  {
   "cell_type": "markdown",
   "metadata": {},
   "source": [
    "- **VERIFICATION**"
   ]
  },
  {
   "cell_type": "code",
   "execution_count": 28,
   "metadata": {},
   "outputs": [
    {
     "data": {
      "text/plain": [
       "(0.67, 0.72)"
      ]
     },
     "execution_count": 28,
     "metadata": {},
     "output_type": "execute_result"
    },
    {
     "data": {
      "image/png": "[encoded data removed]",
      "text/plain": [
       "<Figure size 432x288 with 2 Axes>"
      ]
     },
     "metadata": {
      "needs_background": "light"
     },
     "output_type": "display_data"
    }
   ],
   "source": [
    "plot_partial_dependence(model_fit,features=[5], X=x) \n",
    "plt.ylim(0,1)"
   ]
  },
  {
   "cell_type": "code",
   "execution_count": 29,
   "metadata": {},
   "outputs": [
    {
     "data": {
      "text/plain": [
       "(0.57, 0.885)"
      ]
     },
     "execution_count": 29,
     "metadata": {},
     "output_type": "execute_result"
    },
    {
     "data": {
      "image/png": "[encoded data removed]",
      "text/plain": [
       "<Figure size 432x288 with 2 Axes>"
      ]
     },
     "metadata": {
      "needs_background": "light"
     },
     "output_type": "display_data"
    }
   ],
   "source": [
    "plot_partial_dependence(model_fit,features=[0], X=x) \n",
    "plt.ylim(0,1)"
   ]
  },
  {
   "cell_type": "markdown",
   "metadata": {},
   "source": [
    "# Individual Conditional Expectation ICE"
   ]
  },
  {
   "cell_type": "markdown",
   "metadata": {},
   "source": [
    "L'**ICE**  montre le changement de la probabilité quand la variariable explicative change pour un individu donné.\n",
    "\n",
    "-Pour chaque observation, la courbe associée à la variable Age correspond à la variation en fonction des differentes valeurs de l'Age"
   ]
  },
  {
   "cell_type": "code",
   "execution_count": 90,
   "metadata": {},
   "outputs": [],
   "source": [
    "def ICE(feat,va,n,type):\n",
    "    #feat: il prend en argument la variable sur laquelle on construit l'ICE\n",
    "    #va: prends comme argument la grille de valeurs pour construire l'ICE \n",
    "    #n: c'est le nombre d'individu qu'on veut representer\n",
    "    #type: c'est le type de la variable elle prends 0 si la variable est quantitative et 1 si elle est catégorielle \n",
    "    for J in range(n):\n",
    "        bd=pd.DataFrame(columns=['prob','vari'])\n",
    "        i=0 \n",
    "        while i<len(va):\n",
    "            x1=pd.DataFrame(x.iloc[J,:]).transpose()\n",
    "            x1.loc[:,feat]=va[i] \n",
    "            Y_pred1 = (model_fit.predict_proba(x1))\n",
    "            Ym=Y_pred1[:,1]\n",
    "            bd.loc[i]=[Ym,va[i]]\n",
    "            i=i+1\n",
    "        plt.plot(bd.vari, bd.prob)\n",
    "    if type==1:\n",
    "        axes = plt.gca() \n",
    "        axes.xaxis.set_ticks(range(2))\n",
    "    plt.xlabel(feat,fontsize=18)\n",
    "    plt.ylabel('Probabilité',fontsize=18)"
   ]
  },
  {
   "cell_type": "code",
   "execution_count": 31,
   "metadata": {},
   "outputs": [
    {
     "data": {
      "image/png": "[encoded data removed]",
      "text/plain": [
       "<Figure size 432x288 with 1 Axes>"
      ]
     },
     "metadata": {
      "needs_background": "light"
     },
     "output_type": "display_data"
    }
   ],
   "source": [
    "ICE('Age',Nx,1000,0)#correspond au nombre d'induvidus qu'on veut representer AVEC ICE"
   ]
  },
  {
   "cell_type": "markdown",
   "metadata": {},
   "source": [
    "Avec ce graphique, on voit qui n'est pas interpretable d'où je diminue le nombre d'individu "
   ]
  },
  {
   "cell_type": "code",
   "execution_count": 32,
   "metadata": {},
   "outputs": [
    {
     "data": {
      "image/png": "[encoded data removed]",
      "text/plain": [
       "<Figure size 432x288 with 1 Axes>"
      ]
     },
     "metadata": {
      "needs_background": "light"
     },
     "output_type": "display_data"
    }
   ],
   "source": [
    "ICE('Age',Nx,30,0)"
   ]
  },
  {
   "cell_type": "code",
   "execution_count": 33,
   "metadata": {},
   "outputs": [
    {
     "data": {
      "image/png": "[encoded data removed]",
      "text/plain": [
       "<Figure size 432x288 with 1 Axes>"
      ]
     },
     "metadata": {
      "needs_background": "light"
     },
     "output_type": "display_data"
    }
   ],
   "source": [
    "ICE('accountStatus',l,30,1)"
   ]
  },
  {
   "cell_type": "markdown",
   "metadata": {},
   "source": [
    "#  **Accumulated Local Effects ALE**"
   ]
  },
  {
   "cell_type": "markdown",
   "metadata": {},
   "source": [
    "Le ALE PLOT descrit comment les variables explicatives influencent la probabilité en tenant compte de l'independance entre les variables expliquatives.\n",
    "Pour le construit,\n",
    "\n",
    "- on divise l'espace de la variable explicative en intervalle\n",
    "- Pour chaque interval, on calcul la difference entre la prédiction faite pour la valeur maximale et celle faite pour la valeur minimale \n",
    "- Les differences cumulés donne lieu la courbe ALE\n"
   ]
  },
  {
   "cell_type": "code",
   "execution_count": 88,
   "metadata": {},
   "outputs": [],
   "source": [
    "def ALEe(feat,va):\n",
    "    #va est \n",
    "    bd=pd.DataFrame(columns=['ALEi','vari'])\n",
    "    i=1\n",
    "    while i<len(va):\n",
    "        x1=x[(x[feat]>= va[i-1]) & (x[feat]<=va[i])]#on cree un DataFrame contenant que les individus situés entre les intervalles\n",
    "        v11=x1.copy()\n",
    "        v12=x1.copy()\n",
    "        v11.loc[:,feat]=va[i]\n",
    "        Y_pred1=model_fit.predict_proba(v11)\n",
    "        v12.loc[:,feat]=va[i-1]\n",
    "        Y_pred2=model_fit.predict_proba(v12)\n",
    "        kl=np.array(Y_pred1[:,1]-Y_pred2[:,1])\n",
    "        Ym=mean(kl)\n",
    "        bd.loc[i]=[Ym,va[i]]\n",
    "        i=i+1\n",
    "    bd['ALE']=np.cumsum(bd.ALEi)\n",
    "    plt.plot(bd.vari, bd.ALE)\n",
    "    plt.xlabel(feat,fontsize=18)\n",
    "    plt.ylabel('ALE',fontsize=18)"
   ]
  },
  {
   "cell_type": "code",
   "execution_count": 89,
   "metadata": {},
   "outputs": [
    {
     "data": {
      "image/png": "[encoded data removed]",
      "text/plain": [
       "<Figure size 432x288 with 1 Axes>"
      ]
     },
     "metadata": {
      "needs_background": "light"
     },
     "output_type": "display_data"
    }
   ],
   "source": [
    "inter=np.array(range(mia,maa,10))#les bornes des groupes d'age\n",
    "ALEe('Age',inter)"
   ]
  }
 ],
 "metadata": {
  "kernelspec": {
   "display_name": "Python 3",
   "language": "python",
   "name": "python3"
  },
  "language_info": {
   "codemirror_mode": {
    "name": "ipython",
    "version": 3
   },
   "file_extension": ".py",
   "mimetype": "text/x-python",
   "name": "python",
   "nbconvert_exporter": "python",
   "pygments_lexer": "ipython3",
   "version": "3.7.4"
  }
 },
 "nbformat": 4,
 "nbformat_minor": 4
}
